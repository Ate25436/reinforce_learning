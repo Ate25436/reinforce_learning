{
 "cells": [
  {
   "cell_type": "code",
   "execution_count": 2,
   "id": "99192ebf",
   "metadata": {},
   "outputs": [],
   "source": [
    "import pandas as pd\n",
    "import numpy as np"
   ]
  },
  {
   "cell_type": "code",
   "execution_count": 9,
   "id": "55867e88",
   "metadata": {},
   "outputs": [
    {
     "data": {
      "text/plain": [
       "{'win_rate': [0.0,\n",
       "  0.0,\n",
       "  0.2,\n",
       "  0.1,\n",
       "  0.2,\n",
       "  0.2,\n",
       "  0.0,\n",
       "  0.0,\n",
       "  0.3,\n",
       "  0.2,\n",
       "  0.0,\n",
       "  0.1,\n",
       "  0.2,\n",
       "  0.0,\n",
       "  0.0,\n",
       "  0.0,\n",
       "  0.1,\n",
       "  0.3,\n",
       "  0.0,\n",
       "  0.0,\n",
       "  0.0,\n",
       "  0.0,\n",
       "  0.0,\n",
       "  0.2,\n",
       "  0.1,\n",
       "  0.0,\n",
       "  0.0,\n",
       "  0.0,\n",
       "  0.1,\n",
       "  0.1],\n",
       " 'turns': [7344.8,\n",
       "  7218.5,\n",
       "  8637.9,\n",
       "  7638.1,\n",
       "  7334.5,\n",
       "  7789.7,\n",
       "  5016.2,\n",
       "  5066.8,\n",
       "  8198.7,\n",
       "  8811.4,\n",
       "  6097.2,\n",
       "  7933.8,\n",
       "  7303.3,\n",
       "  4472.9,\n",
       "  6116.0,\n",
       "  4963.1,\n",
       "  5991.1,\n",
       "  9580.4,\n",
       "  6972.0,\n",
       "  9437.2,\n",
       "  5635.5,\n",
       "  8440.7,\n",
       "  8918.1,\n",
       "  8193.4,\n",
       "  10049.7,\n",
       "  5892.9,\n",
       "  6999.8,\n",
       "  6746.8,\n",
       "  6695.3,\n",
       "  7991.2]}"
      ]
     },
     "execution_count": 9,
     "metadata": {},
     "output_type": "execute_result"
    }
   ],
   "source": [
    "win_rates = pd.read_pickle('pickle/base_model_rule.pkl')\n",
    "win_rates"
   ]
  },
  {
   "cell_type": "code",
   "execution_count": 10,
   "id": "7a98e839",
   "metadata": {},
   "outputs": [
    {
     "name": "stdout",
     "output_type": "stream",
     "text": [
      "mean win rate: 0.08000000000000002\n",
      "mean turns 7249.566666666666\n"
     ]
    }
   ],
   "source": [
    "print('mean win rate:', np.array(win_rates['win_rate']).mean())\n",
    "print('mean turns', np.array(win_rates['turns']).mean())"
   ]
  },
  {
   "cell_type": "code",
   "execution_count": null,
   "id": "1de647ec",
   "metadata": {},
   "outputs": [],
   "source": []
  }
 ],
 "metadata": {
  "kernelspec": {
   "display_name": "AnalysisShadowverse",
   "language": "python",
   "name": "python3"
  },
  "language_info": {
   "codemirror_mode": {
    "name": "ipython",
    "version": 3
   },
   "file_extension": ".py",
   "mimetype": "text/x-python",
   "name": "python",
   "nbconvert_exporter": "python",
   "pygments_lexer": "ipython3",
   "version": "3.12.9"
  }
 },
 "nbformat": 4,
 "nbformat_minor": 5
}
