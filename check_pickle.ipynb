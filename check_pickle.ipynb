{
 "cells": [
  {
   "cell_type": "code",
   "execution_count": 2,
   "id": "99192ebf",
   "metadata": {},
   "outputs": [],
   "source": [
    "import pandas as pd\n",
    "import numpy as np"
   ]
  },
  {
   "cell_type": "code",
   "execution_count": 14,
   "id": "55867e88",
   "metadata": {},
   "outputs": [
    {
     "data": {
      "text/plain": [
       "{'win_rate': [0.1,\n",
       "  0.1,\n",
       "  0.0,\n",
       "  0.0,\n",
       "  0.1,\n",
       "  0.0,\n",
       "  0.1,\n",
       "  0.0,\n",
       "  0.0,\n",
       "  0.0,\n",
       "  0.1,\n",
       "  0.1,\n",
       "  0.1,\n",
       "  0.1,\n",
       "  0.0,\n",
       "  0.1,\n",
       "  0.0,\n",
       "  0.0,\n",
       "  0.0,\n",
       "  0.2,\n",
       "  0.0,\n",
       "  0.1,\n",
       "  0.1,\n",
       "  0.1,\n",
       "  0.0,\n",
       "  0.0,\n",
       "  0.2,\n",
       "  0.1,\n",
       "  0.2,\n",
       "  0.2],\n",
       " 'turns': [9130.2,\n",
       "  8925.2,\n",
       "  9498.8,\n",
       "  8878.9,\n",
       "  7779.9,\n",
       "  8622.2,\n",
       "  9668.5,\n",
       "  11310.9,\n",
       "  7355.3,\n",
       "  9288.7,\n",
       "  9588.4,\n",
       "  10408.9,\n",
       "  9224.7,\n",
       "  10724.7,\n",
       "  9665.8,\n",
       "  8408.6,\n",
       "  8649.2,\n",
       "  9937.7,\n",
       "  9064.7,\n",
       "  9668.6,\n",
       "  9112.9,\n",
       "  9276.2,\n",
       "  9987.5,\n",
       "  9490.1,\n",
       "  8287.0,\n",
       "  8680.2,\n",
       "  10212.3,\n",
       "  9481.1,\n",
       "  8854.8,\n",
       "  9784.8]}"
      ]
     },
     "execution_count": 14,
     "metadata": {},
     "output_type": "execute_result"
    }
   ],
   "source": [
    "win_rates = pd.read_pickle('pickle/base_model_rule.pkl')\n",
    "win_rates"
   ]
  },
  {
   "cell_type": "code",
   "execution_count": 15,
   "id": "7a98e839",
   "metadata": {},
   "outputs": [
    {
     "name": "stdout",
     "output_type": "stream",
     "text": [
      "mean win rate: 0.07\n",
      "mean turns 9298.893333333333\n"
     ]
    }
   ],
   "source": [
    "print('mean win rate:', np.array(win_rates['win_rate']).mean())\n",
    "print('mean turns', np.array(win_rates['turns']).mean())"
   ]
  }
 ],
 "metadata": {
  "kernelspec": {
   "display_name": "AnalysisShadowverse",
   "language": "python",
   "name": "python3"
  },
  "language_info": {
   "codemirror_mode": {
    "name": "ipython",
    "version": 3
   },
   "file_extension": ".py",
   "mimetype": "text/x-python",
   "name": "python",
   "nbconvert_exporter": "python",
   "pygments_lexer": "ipython3",
   "version": "3.12.9"
  }
 },
 "nbformat": 4,
 "nbformat_minor": 5
}
