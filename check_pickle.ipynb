{
 "cells": [
  {
   "cell_type": "code",
   "execution_count": 8,
   "id": "99192ebf",
   "metadata": {},
   "outputs": [],
   "source": [
    "import pandas as pd\n",
    "import numpy as np"
   ]
  },
  {
   "cell_type": "code",
   "execution_count": 9,
   "id": "55867e88",
   "metadata": {},
   "outputs": [
    {
     "data": {
      "text/plain": [
       "{'win_rate': [0.8,\n",
       "  0.6,\n",
       "  0.6,\n",
       "  0.5,\n",
       "  0.8,\n",
       "  0.6,\n",
       "  0.9,\n",
       "  0.9,\n",
       "  0.4,\n",
       "  0.6,\n",
       "  0.7,\n",
       "  0.8,\n",
       "  0.7,\n",
       "  0.6,\n",
       "  0.5,\n",
       "  0.9,\n",
       "  0.8,\n",
       "  0.6,\n",
       "  0.9,\n",
       "  0.5,\n",
       "  0.4,\n",
       "  0.7,\n",
       "  0.6,\n",
       "  0.6,\n",
       "  0.7,\n",
       "  0.5,\n",
       "  0.6,\n",
       "  0.6,\n",
       "  0.9,\n",
       "  0.8],\n",
       " 'turns': [9124.1,\n",
       "  6989.3,\n",
       "  10093.0,\n",
       "  9925.0,\n",
       "  8791.6,\n",
       "  9499.9,\n",
       "  10065.4,\n",
       "  10766.5,\n",
       "  7325.2,\n",
       "  9390.3,\n",
       "  9281.8,\n",
       "  10008.5,\n",
       "  9565.9,\n",
       "  9651.5,\n",
       "  9215.9,\n",
       "  11377.2,\n",
       "  10969.1,\n",
       "  8929.1,\n",
       "  10959.5,\n",
       "  7301.7,\n",
       "  6282.8,\n",
       "  8574.3,\n",
       "  10187.7,\n",
       "  7797.0,\n",
       "  9440.4,\n",
       "  8938.7,\n",
       "  10612.7,\n",
       "  10419.5,\n",
       "  10330.2,\n",
       "  9674.4]}"
      ]
     },
     "execution_count": 9,
     "metadata": {},
     "output_type": "execute_result"
    }
   ],
   "source": [
    "win_rates = pd.read_pickle('pickle/base_model_rule_make_deck_300000.pkl')\n",
    "win_rates"
   ]
  },
  {
   "cell_type": "code",
   "execution_count": 10,
   "id": "7a98e839",
   "metadata": {},
   "outputs": [
    {
     "name": "stdout",
     "output_type": "stream",
     "text": [
      "mean win rate: 0.67\n",
      "mean turns 9382.94\n"
     ]
    }
   ],
   "source": [
    "print('mean win rate:', np.array(win_rates['win_rate']).mean())\n",
    "print('mean turns', np.array(win_rates['turns']).mean())"
   ]
  },
  {
   "cell_type": "code",
   "execution_count": null,
   "id": "1de647ec",
   "metadata": {},
   "outputs": [],
   "source": []
  }
 ],
 "metadata": {
  "kernelspec": {
   "display_name": "AnalysisShadowverse",
   "language": "python",
   "name": "analysisshadowverse"
  }
 },
 "nbformat": 4,
 "nbformat_minor": 5
}
