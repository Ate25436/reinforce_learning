{
 "cells": [
  {
   "cell_type": "code",
   "execution_count": 8,
   "id": "99192ebf",
   "metadata": {},
   "outputs": [],
   "source": [
    "import pandas as pd\n",
    "import numpy as np"
   ]
  },
  {
   "cell_type": "code",
   "execution_count": 5,
   "id": "55867e88",
   "metadata": {},
   "outputs": [
    {
     "data": {
      "text/plain": [
       "{'win_rate': [0.8,\n",
       "  0.9,\n",
       "  0.6,\n",
       "  0.7,\n",
       "  0.7,\n",
       "  1.0,\n",
       "  0.8,\n",
       "  0.7,\n",
       "  0.7,\n",
       "  0.7,\n",
       "  0.7,\n",
       "  0.9,\n",
       "  0.8,\n",
       "  0.6,\n",
       "  0.7,\n",
       "  0.8,\n",
       "  0.8,\n",
       "  0.6,\n",
       "  0.6,\n",
       "  0.7,\n",
       "  0.8,\n",
       "  0.5,\n",
       "  0.6,\n",
       "  0.3,\n",
       "  0.6,\n",
       "  0.3,\n",
       "  0.6,\n",
       "  0.7,\n",
       "  0.8,\n",
       "  0.8],\n",
       " 'turns': [15154.8,\n",
       "  19247.9,\n",
       "  17189.8,\n",
       "  19125.9,\n",
       "  19667.4,\n",
       "  19700.6,\n",
       "  16842.7,\n",
       "  16581.4,\n",
       "  19130.9,\n",
       "  16812.9,\n",
       "  17944.8,\n",
       "  16192.7,\n",
       "  22255.3,\n",
       "  19237.2,\n",
       "  18460.5,\n",
       "  16122.6,\n",
       "  18597.5,\n",
       "  18347.4,\n",
       "  23282.7,\n",
       "  18937.5,\n",
       "  18000.2,\n",
       "  18580.8,\n",
       "  18337.8,\n",
       "  19109.8,\n",
       "  14014.4,\n",
       "  20314.3,\n",
       "  18838.6,\n",
       "  16542.2,\n",
       "  17997.8,\n",
       "  17806.9]}"
      ]
     },
     "execution_count": 5,
     "metadata": {},
     "output_type": "execute_result"
    }
   ],
   "source": [
    "win_rates = pd.read_pickle('pickle/potential_base_2.pkl')\n",
    "win_rates"
   ]
  },
  {
   "cell_type": "code",
   "execution_count": 9,
   "id": "7a98e839",
   "metadata": {},
   "outputs": [
    {
     "name": "stdout",
     "output_type": "stream",
     "text": [
      "mean win rate: 0.6933333333333335\n",
      "mean turns 18279.17666666667\n"
     ]
    }
   ],
   "source": [
    "print('mean win rate:', np.array(win_rates['win_rate']).mean())\n",
    "print('mean turns', np.array(win_rates['turns']).mean())"
   ]
  }
 ],
 "metadata": {
  "kernelspec": {
   "display_name": "AnalysisShadowverse",
   "language": "python",
   "name": "python3"
  },
  "language_info": {
   "codemirror_mode": {
    "name": "ipython",
    "version": 3
   },
   "file_extension": ".py",
   "mimetype": "text/x-python",
   "name": "python",
   "nbconvert_exporter": "python",
   "pygments_lexer": "ipython3",
   "version": "3.12.9"
  }
 },
 "nbformat": 4,
 "nbformat_minor": 5
}
