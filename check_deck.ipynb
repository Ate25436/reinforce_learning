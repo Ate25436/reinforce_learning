{
 "cells": [
  {
   "cell_type": "code",
   "execution_count": 2,
   "id": "07387423",
   "metadata": {},
   "outputs": [],
   "source": [
    "import pandas as pd"
   ]
  },
  {
   "cell_type": "code",
   "execution_count": 5,
   "id": "6ed5c4b8",
   "metadata": {},
   "outputs": [
    {
     "data": {
      "text/plain": [
       "[[4, 3, 4, 0],\n",
       " [2, 1, 2, 5],\n",
       " [2, 1, 2, 5],\n",
       " [2, 1, 2, 5],\n",
       " [2, 1, 2, 5],\n",
       " [2, 1, 2, 5],\n",
       " [2, 1, 2, 5],\n",
       " [2, 1, 2, 5],\n",
       " [2, 1, 2, 5],\n",
       " [2, 1, 2, 5],\n",
       " [2, 1, 2, 5],\n",
       " [2, 1, 2, 5],\n",
       " [2, 1, 2, 5],\n",
       " [2, 1, 2, 5],\n",
       " [2, 1, 2, 5],\n",
       " [2, 1, 2, 5],\n",
       " [2, 1, 2, 5],\n",
       " [2, 2, 2, 0],\n",
       " [2, 1, 2, 5],\n",
       " [2, 1, 2, 5],\n",
       " [2, 1, 2, 5],\n",
       " [2, 1, 2, 5],\n",
       " [2, 1, 2, 5],\n",
       " [2, 1, 2, 5],\n",
       " [2, 1, 2, 5],\n",
       " [1, 1, 1, 4],\n",
       " [2, 1, 2, 5],\n",
       " [2, 1, 2, 5],\n",
       " [2, 1, 2, 5],\n",
       " [2, 1, 2, 5]]"
      ]
     },
     "execution_count": 5,
     "metadata": {},
     "output_type": "execute_result"
    }
   ],
   "source": [
    "deck = pd.read_pickle('decks/make_deck_3000.pkl')\n",
    "deck"
   ]
  }
 ],
 "metadata": {
  "kernelspec": {
   "display_name": "AnalysisShadowverse",
   "language": "python",
   "name": "python3"
  },
  "language_info": {
   "codemirror_mode": {
    "name": "ipython",
    "version": 3
   },
   "file_extension": ".py",
   "mimetype": "text/x-python",
   "name": "python",
   "nbconvert_exporter": "python",
   "pygments_lexer": "ipython3",
   "version": "3.12.9"
  }
 },
 "nbformat": 4,
 "nbformat_minor": 5
}
