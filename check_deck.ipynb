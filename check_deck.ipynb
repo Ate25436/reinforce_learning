{
 "cells": [
  {
   "cell_type": "code",
   "execution_count": 1,
   "id": "07387423",
   "metadata": {},
   "outputs": [],
   "source": [
    "import pandas as pd"
   ]
  },
  {
   "cell_type": "code",
   "execution_count": 4,
   "id": "6ed5c4b8",
   "metadata": {},
   "outputs": [
    {
     "data": {
      "text/plain": [
       "[[5, 4, 5, 0],\n",
       " [4, 4, 1, 0],\n",
       " [4, 4, 1, 0],\n",
       " [5, 4, 5, 0],\n",
       " [4, 4, 1, 0],\n",
       " [4, 4, 1, 0],\n",
       " [4, 4, 1, 0],\n",
       " [4, 4, 1, 0],\n",
       " [1, 3, 2, 4],\n",
       " [4, 4, 1, 0],\n",
       " [4, 4, 1, 0],\n",
       " [4, 4, 1, 0],\n",
       " [4, 4, 1, 0],\n",
       " [4, 4, 1, 0],\n",
       " [4, 4, 1, 0],\n",
       " [4, 4, 1, 0],\n",
       " [4, 4, 1, 0],\n",
       " [4, 4, 1, 0],\n",
       " [4, 4, 1, 0],\n",
       " [4, 4, 1, 0],\n",
       " [4, 4, 1, 0],\n",
       " [4, 4, 1, 0],\n",
       " [4, 4, 1, 0],\n",
       " [4, 4, 1, 0],\n",
       " [4, 4, 1, 0],\n",
       " [4, 4, 1, 0],\n",
       " [4, 4, 1, 0],\n",
       " [4, 4, 1, 0],\n",
       " [3, 3, 3, 0],\n",
       " [3, 3, 3, 0]]"
      ]
     },
     "execution_count": 4,
     "metadata": {},
     "output_type": "execute_result"
    }
   ],
   "source": [
    "deck = pd.read_pickle('decks/make_deck_300000.pkl')\n",
    "deck"
   ]
  }
 ],
 "metadata": {
  "kernelspec": {
   "display_name": "AnalysisShadowverse (3.12.9)",
   "language": "python",
   "name": "python3"
  },
  "language_info": {
   "codemirror_mode": {
    "name": "ipython",
    "version": 3
   },
   "file_extension": ".py",
   "mimetype": "text/x-python",
   "name": "python",
   "nbconvert_exporter": "python",
   "pygments_lexer": "ipython3",
   "version": "3.12.9"
  }
 },
 "nbformat": 4,
 "nbformat_minor": 5
}
